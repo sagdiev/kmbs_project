{
 "cells": [
  {
   "cell_type": "code",
   "execution_count": 1,
   "metadata": {},
   "outputs": [],
   "source": [
    "import pandas as pd\n",
    "import math as m\n",
    "import numpy as np\n",
    "from timeit import default_timer as timer"
   ]
  },
  {
   "cell_type": "code",
   "execution_count": 2,
   "metadata": {},
   "outputs": [],
   "source": [
    "df = pd.read_csv('total_df_coin_2018_03_01.csv', sep=',')"
   ]
  },
  {
   "cell_type": "code",
   "execution_count": 3,
   "metadata": {},
   "outputs": [],
   "source": [
    "def isfloat(value):\n",
    "    try:\n",
    "        float(value)\n",
    "        return True\n",
    "    except ValueError:\n",
    "        return False"
   ]
  },
  {
   "cell_type": "code",
   "execution_count": 4,
   "metadata": {},
   "outputs": [],
   "source": [
    "for i in range(0, len(df)):\n",
    "    if isfloat(df.loc[i, 'Open']) == True:\n",
    "        pass\n",
    "    else:\n",
    "        df.loc[i, 'Open'] = df['Open'][i].replace(',', '')\n",
    "#     df.loc[i, 'Open'] = float(df.loc[i, 'Open'])"
   ]
  },
  {
   "cell_type": "code",
   "execution_count": 5,
   "metadata": {},
   "outputs": [],
   "source": [
    "for i in range(0, len(df)):\n",
    "    df.loc[i, 'Open'] = float(df.loc[i, 'Open'])"
   ]
  },
  {
   "cell_type": "code",
   "execution_count": 6,
   "metadata": {},
   "outputs": [],
   "source": [
    "all_share_in_table = df['ticker'].unique().tolist()"
   ]
  },
  {
   "cell_type": "code",
   "execution_count": 7,
   "metadata": {
    "scrolled": true
   },
   "outputs": [
    {
     "data": {
      "text/plain": [
       "['BCH',\n",
       " 'BTC',\n",
       " 'ETH',\n",
       " 'LTC',\n",
       " 'XRP',\n",
       " 'DASH',\n",
       " 'ETC',\n",
       " 'XMR',\n",
       " 'BTC_ETH',\n",
       " 'BTC_ETC',\n",
       " 'ETH_ETC']"
      ]
     },
     "execution_count": 7,
     "metadata": {},
     "output_type": "execute_result"
    }
   ],
   "source": [
    "all_share_in_table"
   ]
  },
  {
   "cell_type": "code",
   "execution_count": 8,
   "metadata": {},
   "outputs": [
    {
     "data": {
      "text/plain": [
       "9714"
      ]
     },
     "execution_count": 8,
     "metadata": {},
     "output_type": "execute_result"
    }
   ],
   "source": [
    "len(df)"
   ]
  },
  {
   "cell_type": "code",
   "execution_count": 9,
   "metadata": {},
   "outputs": [
    {
     "data": {
      "text/html": [
       "<div>\n",
       "<style scoped>\n",
       "    .dataframe tbody tr th:only-of-type {\n",
       "        vertical-align: middle;\n",
       "    }\n",
       "\n",
       "    .dataframe tbody tr th {\n",
       "        vertical-align: top;\n",
       "    }\n",
       "\n",
       "    .dataframe thead th {\n",
       "        text-align: right;\n",
       "    }\n",
       "</style>\n",
       "<table border=\"1\" class=\"dataframe\">\n",
       "  <thead>\n",
       "    <tr style=\"text-align: right;\">\n",
       "      <th></th>\n",
       "      <th>Date</th>\n",
       "      <th>Price</th>\n",
       "      <th>Open</th>\n",
       "      <th>High</th>\n",
       "      <th>Low</th>\n",
       "      <th>Vol.</th>\n",
       "      <th>Change %</th>\n",
       "      <th>ticker</th>\n",
       "    </tr>\n",
       "  </thead>\n",
       "  <tbody>\n",
       "    <tr>\n",
       "      <th>0</th>\n",
       "      <td>2017-08-03</td>\n",
       "      <td>327.40</td>\n",
       "      <td>399</td>\n",
       "      <td>435.00</td>\n",
       "      <td>302.10</td>\n",
       "      <td>46.98K</td>\n",
       "      <td>-17.94</td>\n",
       "      <td>BCH</td>\n",
       "    </tr>\n",
       "    <tr>\n",
       "      <th>1</th>\n",
       "      <td>2017-08-04</td>\n",
       "      <td>220.61</td>\n",
       "      <td>327.4</td>\n",
       "      <td>354.00</td>\n",
       "      <td>220.50</td>\n",
       "      <td>88.94K</td>\n",
       "      <td>-32.62</td>\n",
       "      <td>BCH</td>\n",
       "    </tr>\n",
       "    <tr>\n",
       "      <th>2</th>\n",
       "      <td>2017-08-05</td>\n",
       "      <td>210.00</td>\n",
       "      <td>220.61</td>\n",
       "      <td>277.45</td>\n",
       "      <td>194.66</td>\n",
       "      <td>82.67K</td>\n",
       "      <td>-4.81</td>\n",
       "      <td>BCH</td>\n",
       "    </tr>\n",
       "    <tr>\n",
       "      <th>3</th>\n",
       "      <td>2017-08-06</td>\n",
       "      <td>217.75</td>\n",
       "      <td>210</td>\n",
       "      <td>222.99</td>\n",
       "      <td>190.10</td>\n",
       "      <td>73.03K</td>\n",
       "      <td>3.69</td>\n",
       "      <td>BCH</td>\n",
       "    </tr>\n",
       "    <tr>\n",
       "      <th>4</th>\n",
       "      <td>2017-08-07</td>\n",
       "      <td>320.00</td>\n",
       "      <td>217.75</td>\n",
       "      <td>370.00</td>\n",
       "      <td>215.00</td>\n",
       "      <td>233.67K</td>\n",
       "      <td>46.96</td>\n",
       "      <td>BCH</td>\n",
       "    </tr>\n",
       "    <tr>\n",
       "      <th>5</th>\n",
       "      <td>2017-08-08</td>\n",
       "      <td>342.23</td>\n",
       "      <td>320</td>\n",
       "      <td>387.20</td>\n",
       "      <td>307.50</td>\n",
       "      <td>147.21K</td>\n",
       "      <td>6.95</td>\n",
       "      <td>BCH</td>\n",
       "    </tr>\n",
       "    <tr>\n",
       "      <th>6</th>\n",
       "      <td>2017-08-09</td>\n",
       "      <td>301.00</td>\n",
       "      <td>342.23</td>\n",
       "      <td>348.00</td>\n",
       "      <td>287.00</td>\n",
       "      <td>71.42K</td>\n",
       "      <td>-12.05</td>\n",
       "      <td>BCH</td>\n",
       "    </tr>\n",
       "    <tr>\n",
       "      <th>7</th>\n",
       "      <td>2017-08-10</td>\n",
       "      <td>273.11</td>\n",
       "      <td>301</td>\n",
       "      <td>312.00</td>\n",
       "      <td>265.00</td>\n",
       "      <td>63.55K</td>\n",
       "      <td>-9.27</td>\n",
       "      <td>BCH</td>\n",
       "    </tr>\n",
       "    <tr>\n",
       "      <th>8</th>\n",
       "      <td>2017-08-11</td>\n",
       "      <td>325.54</td>\n",
       "      <td>273.11</td>\n",
       "      <td>351.47</td>\n",
       "      <td>270.01</td>\n",
       "      <td>82.96K</td>\n",
       "      <td>19.2</td>\n",
       "      <td>BCH</td>\n",
       "    </tr>\n",
       "    <tr>\n",
       "      <th>9</th>\n",
       "      <td>2017-08-12</td>\n",
       "      <td>315.09</td>\n",
       "      <td>325.54</td>\n",
       "      <td>345.25</td>\n",
       "      <td>308.00</td>\n",
       "      <td>29.02K</td>\n",
       "      <td>-3.21</td>\n",
       "      <td>BCH</td>\n",
       "    </tr>\n",
       "  </tbody>\n",
       "</table>\n",
       "</div>"
      ],
      "text/plain": [
       "         Date   Price    Open    High     Low     Vol. Change % ticker\n",
       "0  2017-08-03  327.40     399  435.00  302.10   46.98K   -17.94    BCH\n",
       "1  2017-08-04  220.61   327.4  354.00  220.50   88.94K   -32.62    BCH\n",
       "2  2017-08-05  210.00  220.61  277.45  194.66   82.67K    -4.81    BCH\n",
       "3  2017-08-06  217.75     210  222.99  190.10   73.03K     3.69    BCH\n",
       "4  2017-08-07  320.00  217.75  370.00  215.00  233.67K    46.96    BCH\n",
       "5  2017-08-08  342.23     320  387.20  307.50  147.21K     6.95    BCH\n",
       "6  2017-08-09  301.00  342.23  348.00  287.00   71.42K   -12.05    BCH\n",
       "7  2017-08-10  273.11     301  312.00  265.00   63.55K    -9.27    BCH\n",
       "8  2017-08-11  325.54  273.11  351.47  270.01   82.96K     19.2    BCH\n",
       "9  2017-08-12  315.09  325.54  345.25  308.00   29.02K    -3.21    BCH"
      ]
     },
     "execution_count": 9,
     "metadata": {},
     "output_type": "execute_result"
    }
   ],
   "source": [
    "df.head(10)"
   ]
  },
  {
   "cell_type": "code",
   "execution_count": 10,
   "metadata": {
    "scrolled": false
   },
   "outputs": [
    {
     "data": {
      "text/html": [
       "<div>\n",
       "<style scoped>\n",
       "    .dataframe tbody tr th:only-of-type {\n",
       "        vertical-align: middle;\n",
       "    }\n",
       "\n",
       "    .dataframe tbody tr th {\n",
       "        vertical-align: top;\n",
       "    }\n",
       "\n",
       "    .dataframe thead th {\n",
       "        text-align: right;\n",
       "    }\n",
       "</style>\n",
       "<table border=\"1\" class=\"dataframe\">\n",
       "  <thead>\n",
       "    <tr style=\"text-align: right;\">\n",
       "      <th></th>\n",
       "      <th>Date</th>\n",
       "      <th>Price</th>\n",
       "      <th>Open</th>\n",
       "      <th>High</th>\n",
       "      <th>Low</th>\n",
       "      <th>Vol.</th>\n",
       "      <th>Change %</th>\n",
       "      <th>ticker</th>\n",
       "    </tr>\n",
       "  </thead>\n",
       "  <tbody>\n",
       "    <tr>\n",
       "      <th>0</th>\n",
       "      <td>2017-08-03</td>\n",
       "      <td>327.40</td>\n",
       "      <td>399</td>\n",
       "      <td>435.00</td>\n",
       "      <td>302.10</td>\n",
       "      <td>46.98K</td>\n",
       "      <td>-17.94</td>\n",
       "      <td>BCH</td>\n",
       "    </tr>\n",
       "    <tr>\n",
       "      <th>1</th>\n",
       "      <td>2017-08-04</td>\n",
       "      <td>220.61</td>\n",
       "      <td>327.4</td>\n",
       "      <td>354.00</td>\n",
       "      <td>220.50</td>\n",
       "      <td>88.94K</td>\n",
       "      <td>-32.62</td>\n",
       "      <td>BCH</td>\n",
       "    </tr>\n",
       "    <tr>\n",
       "      <th>2</th>\n",
       "      <td>2017-08-05</td>\n",
       "      <td>210.00</td>\n",
       "      <td>220.61</td>\n",
       "      <td>277.45</td>\n",
       "      <td>194.66</td>\n",
       "      <td>82.67K</td>\n",
       "      <td>-4.81</td>\n",
       "      <td>BCH</td>\n",
       "    </tr>\n",
       "    <tr>\n",
       "      <th>3</th>\n",
       "      <td>2017-08-06</td>\n",
       "      <td>217.75</td>\n",
       "      <td>210</td>\n",
       "      <td>222.99</td>\n",
       "      <td>190.10</td>\n",
       "      <td>73.03K</td>\n",
       "      <td>3.69</td>\n",
       "      <td>BCH</td>\n",
       "    </tr>\n",
       "    <tr>\n",
       "      <th>4</th>\n",
       "      <td>2017-08-07</td>\n",
       "      <td>320.00</td>\n",
       "      <td>217.75</td>\n",
       "      <td>370.00</td>\n",
       "      <td>215.00</td>\n",
       "      <td>233.67K</td>\n",
       "      <td>46.96</td>\n",
       "      <td>BCH</td>\n",
       "    </tr>\n",
       "  </tbody>\n",
       "</table>\n",
       "</div>"
      ],
      "text/plain": [
       "         Date   Price    Open    High     Low     Vol. Change % ticker\n",
       "0  2017-08-03  327.40     399  435.00  302.10   46.98K   -17.94    BCH\n",
       "1  2017-08-04  220.61   327.4  354.00  220.50   88.94K   -32.62    BCH\n",
       "2  2017-08-05  210.00  220.61  277.45  194.66   82.67K    -4.81    BCH\n",
       "3  2017-08-06  217.75     210  222.99  190.10   73.03K     3.69    BCH\n",
       "4  2017-08-07  320.00  217.75  370.00  215.00  233.67K    46.96    BCH"
      ]
     },
     "execution_count": 10,
     "metadata": {},
     "output_type": "execute_result"
    }
   ],
   "source": [
    "df = df[df.Date >= '2015-01-01']\n",
    "df = df.reset_index()\n",
    "df = df.drop('index', axis=1)\n",
    "df.head()"
   ]
  },
  {
   "cell_type": "code",
   "execution_count": 11,
   "metadata": {},
   "outputs": [
    {
     "data": {
      "text/plain": [
       "8652"
      ]
     },
     "execution_count": 11,
     "metadata": {},
     "output_type": "execute_result"
    }
   ],
   "source": [
    "len(df)"
   ]
  },
  {
   "cell_type": "code",
   "execution_count": 12,
   "metadata": {},
   "outputs": [],
   "source": [
    "df['p_sell'] = 0\n",
    "df['p_buy'] = 0\n",
    "df['day_profit'] = 0\n",
    "df['total_profit'] = 0\n",
    "df['sell/buy'] = 0\n",
    "df['count_sell'] = 0\n",
    "df['count_buy'] = 0\n",
    "df['count_total_buy'] = 0\n",
    "df['costs_of_bying'] = 0\n",
    "df['sum_invested'] = 0\n",
    "\n",
    "# column_p_sell = 'p_sell'\n",
    "# column_p_buy = 'p_buy'\n",
    "# column_price = 'Open'\n",
    "# column_sell_buy = 'sell/buy'\n",
    "# column_day_profit = 'day_profit'\n",
    "# column_profit = 'total_profit'\n",
    "# column_count_sell = 'count_sell'\n",
    "# column_count_buy = 'count_buy'\n",
    "# column_count_total_buy = 'count_total_buy'\n",
    "# column_costs_of_bying = 'costs_of_bying'\n",
    "# column_sum_invested = 'sum_invested'\n",
    "# column_ticker = 'ticker'"
   ]
  },
  {
   "cell_type": "code",
   "execution_count": 13,
   "metadata": {},
   "outputs": [
    {
     "data": {
      "text/html": [
       "<div>\n",
       "<style scoped>\n",
       "    .dataframe tbody tr th:only-of-type {\n",
       "        vertical-align: middle;\n",
       "    }\n",
       "\n",
       "    .dataframe tbody tr th {\n",
       "        vertical-align: top;\n",
       "    }\n",
       "\n",
       "    .dataframe thead th {\n",
       "        text-align: right;\n",
       "    }\n",
       "</style>\n",
       "<table border=\"1\" class=\"dataframe\">\n",
       "  <thead>\n",
       "    <tr style=\"text-align: right;\">\n",
       "      <th></th>\n",
       "      <th>Date</th>\n",
       "      <th>Price</th>\n",
       "      <th>Open</th>\n",
       "      <th>High</th>\n",
       "      <th>Low</th>\n",
       "      <th>Vol.</th>\n",
       "      <th>Change %</th>\n",
       "      <th>ticker</th>\n",
       "      <th>p_sell</th>\n",
       "      <th>p_buy</th>\n",
       "      <th>day_profit</th>\n",
       "      <th>total_profit</th>\n",
       "      <th>sell/buy</th>\n",
       "      <th>count_sell</th>\n",
       "      <th>count_buy</th>\n",
       "      <th>count_total_buy</th>\n",
       "      <th>costs_of_bying</th>\n",
       "      <th>sum_invested</th>\n",
       "    </tr>\n",
       "  </thead>\n",
       "  <tbody>\n",
       "    <tr>\n",
       "      <th>0</th>\n",
       "      <td>2017-08-03</td>\n",
       "      <td>327.40</td>\n",
       "      <td>399</td>\n",
       "      <td>435.00</td>\n",
       "      <td>302.10</td>\n",
       "      <td>46.98K</td>\n",
       "      <td>-17.94</td>\n",
       "      <td>BCH</td>\n",
       "      <td>0</td>\n",
       "      <td>0</td>\n",
       "      <td>0</td>\n",
       "      <td>0</td>\n",
       "      <td>0</td>\n",
       "      <td>0</td>\n",
       "      <td>0</td>\n",
       "      <td>0</td>\n",
       "      <td>0</td>\n",
       "      <td>0</td>\n",
       "    </tr>\n",
       "    <tr>\n",
       "      <th>1</th>\n",
       "      <td>2017-08-04</td>\n",
       "      <td>220.61</td>\n",
       "      <td>327.4</td>\n",
       "      <td>354.00</td>\n",
       "      <td>220.50</td>\n",
       "      <td>88.94K</td>\n",
       "      <td>-32.62</td>\n",
       "      <td>BCH</td>\n",
       "      <td>0</td>\n",
       "      <td>0</td>\n",
       "      <td>0</td>\n",
       "      <td>0</td>\n",
       "      <td>0</td>\n",
       "      <td>0</td>\n",
       "      <td>0</td>\n",
       "      <td>0</td>\n",
       "      <td>0</td>\n",
       "      <td>0</td>\n",
       "    </tr>\n",
       "    <tr>\n",
       "      <th>2</th>\n",
       "      <td>2017-08-05</td>\n",
       "      <td>210.00</td>\n",
       "      <td>220.61</td>\n",
       "      <td>277.45</td>\n",
       "      <td>194.66</td>\n",
       "      <td>82.67K</td>\n",
       "      <td>-4.81</td>\n",
       "      <td>BCH</td>\n",
       "      <td>0</td>\n",
       "      <td>0</td>\n",
       "      <td>0</td>\n",
       "      <td>0</td>\n",
       "      <td>0</td>\n",
       "      <td>0</td>\n",
       "      <td>0</td>\n",
       "      <td>0</td>\n",
       "      <td>0</td>\n",
       "      <td>0</td>\n",
       "    </tr>\n",
       "    <tr>\n",
       "      <th>3</th>\n",
       "      <td>2017-08-06</td>\n",
       "      <td>217.75</td>\n",
       "      <td>210</td>\n",
       "      <td>222.99</td>\n",
       "      <td>190.10</td>\n",
       "      <td>73.03K</td>\n",
       "      <td>3.69</td>\n",
       "      <td>BCH</td>\n",
       "      <td>0</td>\n",
       "      <td>0</td>\n",
       "      <td>0</td>\n",
       "      <td>0</td>\n",
       "      <td>0</td>\n",
       "      <td>0</td>\n",
       "      <td>0</td>\n",
       "      <td>0</td>\n",
       "      <td>0</td>\n",
       "      <td>0</td>\n",
       "    </tr>\n",
       "    <tr>\n",
       "      <th>4</th>\n",
       "      <td>2017-08-07</td>\n",
       "      <td>320.00</td>\n",
       "      <td>217.75</td>\n",
       "      <td>370.00</td>\n",
       "      <td>215.00</td>\n",
       "      <td>233.67K</td>\n",
       "      <td>46.96</td>\n",
       "      <td>BCH</td>\n",
       "      <td>0</td>\n",
       "      <td>0</td>\n",
       "      <td>0</td>\n",
       "      <td>0</td>\n",
       "      <td>0</td>\n",
       "      <td>0</td>\n",
       "      <td>0</td>\n",
       "      <td>0</td>\n",
       "      <td>0</td>\n",
       "      <td>0</td>\n",
       "    </tr>\n",
       "  </tbody>\n",
       "</table>\n",
       "</div>"
      ],
      "text/plain": [
       "         Date   Price    Open    High     Low     Vol. Change % ticker  \\\n",
       "0  2017-08-03  327.40     399  435.00  302.10   46.98K   -17.94    BCH   \n",
       "1  2017-08-04  220.61   327.4  354.00  220.50   88.94K   -32.62    BCH   \n",
       "2  2017-08-05  210.00  220.61  277.45  194.66   82.67K    -4.81    BCH   \n",
       "3  2017-08-06  217.75     210  222.99  190.10   73.03K     3.69    BCH   \n",
       "4  2017-08-07  320.00  217.75  370.00  215.00  233.67K    46.96    BCH   \n",
       "\n",
       "   p_sell  p_buy  day_profit  total_profit  sell/buy  count_sell  count_buy  \\\n",
       "0       0      0           0             0         0           0          0   \n",
       "1       0      0           0             0         0           0          0   \n",
       "2       0      0           0             0         0           0          0   \n",
       "3       0      0           0             0         0           0          0   \n",
       "4       0      0           0             0         0           0          0   \n",
       "\n",
       "   count_total_buy  costs_of_bying  sum_invested  \n",
       "0                0               0             0  \n",
       "1                0               0             0  \n",
       "2                0               0             0  \n",
       "3                0               0             0  \n",
       "4                0               0             0  "
      ]
     },
     "execution_count": 13,
     "metadata": {},
     "output_type": "execute_result"
    }
   ],
   "source": [
    "df.head()"
   ]
  },
  {
   "cell_type": "code",
   "execution_count": 14,
   "metadata": {},
   "outputs": [],
   "source": [
    "list_indexs = []\n",
    "share_dict_start_end = dict()\n",
    "for j in range(0, len(all_share_in_table)):    \n",
    "    share_dict_start_end[all_share_in_table[j]] = 0\n",
    "    for i in range(0, len(df)):\n",
    "        if df.loc[i, 'ticker'] == all_share_in_table[j]:\n",
    "            list_indexs.append(i)            \n",
    "    w = list_indexs[0]\n",
    "    w_last = list_indexs[-1]\n",
    "    share_dict_start_end[all_share_in_table[j]] = [w, w_last]\n",
    "    list_indexs = []"
   ]
  },
  {
   "cell_type": "code",
   "execution_count": 15,
   "metadata": {},
   "outputs": [
    {
     "data": {
      "text/plain": [
       "{'BCH': [0, 208],\n",
       " 'BTC': [209, 1347],\n",
       " 'ETH': [1348, 2067],\n",
       " 'LTC': [2068, 2620],\n",
       " 'XRP': [2621, 3744],\n",
       " 'DASH': [3745, 4850],\n",
       " 'ETC': [4851, 5429],\n",
       " 'XMR': [5430, 6554],\n",
       " 'BTC_ETH': [6555, 7488],\n",
       " 'BTC_ETC': [7489, 8071],\n",
       " 'ETH_ETC': [8072, 8651]}"
      ]
     },
     "execution_count": 15,
     "metadata": {},
     "output_type": "execute_result"
    }
   ],
   "source": [
    "share_dict_start_end"
   ]
  },
  {
   "cell_type": "code",
   "execution_count": 16,
   "metadata": {},
   "outputs": [],
   "source": [
    "def prod(j, array):\n",
    "    p = 1\n",
    "    if j == 0:\n",
    "        return p * (1 - array[0])\n",
    "    else:\n",
    "        return prod(j-1, array) * (1-array[j])"
   ]
  },
  {
   "cell_type": "code",
   "execution_count": 17,
   "metadata": {},
   "outputs": [],
   "source": [
    "procent = [0, 0.15, 0.20, 0.25, 0.30]\n",
    "amounts_S = [1000,1000,2000,4000,8000]\n",
    "r_fin = 10\n",
    "procent_loss = 10\n",
    "r = 10\n",
    "count_step = [0]*(len(amounts_S) + 1)\n",
    "size_profit = [0]*(len(amounts_S) + 1)\n",
    "count_days = [0]*(len(amounts_S) + 1)"
   ]
  },
  {
   "cell_type": "code",
   "execution_count": 18,
   "metadata": {},
   "outputs": [
    {
     "data": {
      "text/plain": [
       "0.357"
      ]
     },
     "execution_count": 18,
     "metadata": {},
     "output_type": "execute_result"
    }
   ],
   "source": [
    "prod(4, procent)"
   ]
  },
  {
   "cell_type": "code",
   "execution_count": 19,
   "metadata": {},
   "outputs": [],
   "source": [
    "def model_5k(df, list_share_start, list_share_end):\n",
    "    w = list_share_start\n",
    "    p0 = df.loc[w, column_price]\n",
    "    \n",
    "# визначаємо яку кількість акцій потрібно купувати на відповідному етапі докуповування\n",
    "    number = []\n",
    "    for j in range(0, len(amounts_S)):\n",
    "        if j==0:\n",
    "            number.append(amounts_S[j]/p0)\n",
    "        else:\n",
    "            number.append(amounts_S[j]/(p0*prod(j, procent)))\n",
    "\n",
    "    k0 = number[0]  \n",
    "    K = k0\n",
    "    S0 = k0 * p0\n",
    "    C = S0\n",
    "    Profit = 0\n",
    "    t = 0\n",
    "    p_sell = p0 * (1 + r/100)\n",
    "    p_buy = p0 * (1 - procent[1])\n",
    "\n",
    "    df.loc[w, column_p_sell] = p_sell\n",
    "    df.loc[w, column_p_buy] = p_buy\n",
    "    df.loc[w, column_sell_buy] = 'buy'\n",
    "    df.loc[w, column_day_profit] = K * df.loc[w, column_price] - C\n",
    "    df.loc[w, column_profit] = Profit\n",
    "    df.loc[w, column_count_buy] = k0\n",
    "    df.loc[w, column_count_total_buy] = K\n",
    "    df.loc[w, column_costs_of_bying] = S0\n",
    "    df.loc[w, column_sum_invested] = C\n",
    "\n",
    "    for i in range(w + 1, list_share_end + 1): \n",
    "        count_days[t] = count_days[t] + 1\n",
    "        count_days\n",
    "            \n",
    "        if df[column_price][i] > p_sell:\n",
    "            if t < len(amounts_S):\n",
    "                count_step[t] = count_step[t] + 1\n",
    "                count_step\n",
    "                size_profit[t] = size_profit[t] + K * df[column_price][i] - C\n",
    "                size_profit\n",
    "            else:\n",
    "                pass\n",
    "            Profit = Profit + ( K*df[column_price][i] - C)\n",
    "            df.loc[i, column_profit] = Profit\n",
    "            df.loc[i, column_count_sell] = K\n",
    "            \n",
    "            p0 = df[column_price][i]\n",
    "            p_sell = p0*(1 + r/100)\n",
    "            p_buy = p0*(1 - procent[1])\n",
    "\n",
    "            df.loc[i, column_p_sell] = p_sell\n",
    "            df.loc[i, column_p_buy] = p_buy\n",
    "            df.loc[i, column_sell_buy] = 'sell'\n",
    "            df.loc[i, column_day_profit] = K * df.loc[i, column_price] - C\n",
    "            df.loc[i, column_sum_invested] = C\n",
    "        \n",
    "            number = []\n",
    "            for j in range(0, len(amounts_S)):\n",
    "                if j==0:\n",
    "                    number.append(amounts_S[j]/p0)\n",
    "                else:\n",
    "                    number.append(amounts_S[j]/(p0*prod(j, procent)))\n",
    "            k0 = number[0]  \n",
    "            K = k0\n",
    "            S0 = k0*p0\n",
    "            C = S0  \n",
    "            t = 0\n",
    "            \n",
    "        elif df[column_price][i] < p_buy:  \n",
    "            t = t + 1\n",
    "            \n",
    "            if t < len(amounts_S):            \n",
    "                k0 = number[t]          \n",
    "                K = K + k0\n",
    "                p0 = df[column_price][i]\n",
    "                S0 = k0 * p0\n",
    "                C = C + S0\n",
    "                \n",
    "                p_sell = (C/K)*(1 + r_fin/100)\n",
    "                \n",
    "                if (t + 1) < len(amounts_S):\n",
    "                    p_buy = p0 * (1 - procent[1])\n",
    "                else:\n",
    "                    p_buy = p0 * (1 - procent_loss/100)\n",
    "\n",
    "                df.loc[i, column_p_sell] = p_sell\n",
    "                df.loc[i, column_p_buy] = p_buy\n",
    "                df.loc[i, column_profit] = Profit\n",
    "                df.loc[i, column_sell_buy] = 'buy'\n",
    "                df.loc[i, column_count_buy] = k0\n",
    "                df.loc[i, column_count_total_buy] = K\n",
    "                df.loc[i, column_costs_of_bying] = S0\n",
    "                df.loc[i, column_sum_invested] = C\n",
    "                \n",
    "            elif t == len(amounts_S):\n",
    "                count_step[t] = count_step[t] + 1\n",
    "                count_step\n",
    "                df.loc[i, column_day_profit] = K * df.loc[i, column_price] - C\n",
    "                size_profit[t] = size_profit[t] + K*df[column_price][i] - C  \n",
    "                df.loc[i, column_sell_buy] = 'StopLoss'\n",
    "                df.loc[i, column_count_sell] = K\n",
    "                df.loc[i, column_sum_invested] = C\n",
    "\n",
    "                Profit = Profit + K*df[column_price][i] - C\n",
    "                df.loc[i, column_profit] = Profit\n",
    "                \n",
    "                p0 = df[column_price][i]\n",
    "                p_sell = p0 * (1 + r/100)\n",
    "                p_buy = p0 * (1 - procent[1])\n",
    "\n",
    "                df.loc[i, column_p_sell] = p_sell\n",
    "                df.loc[i, column_p_buy] = p_buy\n",
    "                \n",
    "                number = []\n",
    "                for j in range(0, len(amounts_S)):\n",
    "                    if j==0:\n",
    "                        number.append(amounts_S[j]/p0)\n",
    "                    else:\n",
    "                        number.append(amounts_S[j]/(p0*prod(j, procent)))\n",
    "#                 print('Stoploss', K * df[column_price][i] - C)\n",
    "                k0 = number[0]\n",
    "                K = k0\n",
    "                C = k0 * p0\n",
    "                t = 0\n",
    "        else:        \n",
    "            df.loc[i, column_p_sell] = df.loc[i-1, column_p_sell]\n",
    "            df.loc[i, column_p_buy] = df.loc[i-1, column_p_buy]\n",
    "            df.loc[i, column_profit] = Profit\n",
    "            df.loc[i, column_sum_invested] = C\n",
    "            df.loc[i, column_sell_buy] = 'waiting'\n",
    "            \n",
    "    df['day_profit'] = round(df['day_profit'], 0)\n",
    "    df['total_profit'] = round(df['total_profit'], 0)\n",
    "#     df['Date'] = pd.to_datetime(df['Date'], format=\"%Y/%m/%d\")\n",
    "    df['p_buy'] = round(df['p_buy'], 2)\n",
    "    df['p_sell'] = round(df['p_sell'], 2)\n",
    "    df['count_buy'] = round(df['count_buy'],2)\n",
    "    df['count_sell'] = round(df['count_sell'],2)\n",
    "    df['count_total_buy'] = round(df['count_total_buy'],2)\n",
    "    df['costs_of_bying'] = round(df['costs_of_bying'], 2)\n",
    "    df['sum_invested'] = round(df['sum_invested'], 2)\n",
    "\n",
    "\n",
    "    return df   "
   ]
  },
  {
   "cell_type": "code",
   "execution_count": 20,
   "metadata": {},
   "outputs": [],
   "source": [
    "work_share = all_share_in_table"
   ]
  },
  {
   "cell_type": "code",
   "execution_count": 21,
   "metadata": {},
   "outputs": [],
   "source": [
    "# work_share = ['BCH',\n",
    "#  'BTC',\n",
    "#  'ETH',\n",
    "#  'LTC',\n",
    "#  'XRP',\n",
    "#  'DASH',\n",
    "#  'XMR']"
   ]
  },
  {
   "cell_type": "code",
   "execution_count": 22,
   "metadata": {},
   "outputs": [
    {
     "data": {
      "text/plain": [
       "['BCH',\n",
       " 'BTC',\n",
       " 'ETH',\n",
       " 'LTC',\n",
       " 'XRP',\n",
       " 'DASH',\n",
       " 'ETC',\n",
       " 'XMR',\n",
       " 'BTC_ETH',\n",
       " 'BTC_ETC',\n",
       " 'ETH_ETC']"
      ]
     },
     "execution_count": 22,
     "metadata": {},
     "output_type": "execute_result"
    }
   ],
   "source": [
    "work_share"
   ]
  },
  {
   "cell_type": "code",
   "execution_count": 23,
   "metadata": {},
   "outputs": [
    {
     "data": {
      "text/plain": [
       "399.0"
      ]
     },
     "execution_count": 23,
     "metadata": {},
     "output_type": "execute_result"
    }
   ],
   "source": [
    "df['Open'][0]"
   ]
  },
  {
   "cell_type": "code",
   "execution_count": 24,
   "metadata": {},
   "outputs": [
    {
     "ename": "NameError",
     "evalue": "name 'column_price' is not defined",
     "output_type": "error",
     "traceback": [
      "\u001b[0;31m---------------------------------------------------------------------------\u001b[0m",
      "\u001b[0;31mNameError\u001b[0m                                 Traceback (most recent call last)",
      "\u001b[0;32m<ipython-input-24-9283b59dfcb6>\u001b[0m in \u001b[0;36m<module>\u001b[0;34m\u001b[0m\n\u001b[1;32m      1\u001b[0m \u001b[0mstart\u001b[0m \u001b[0;34m=\u001b[0m \u001b[0mtimer\u001b[0m\u001b[0;34m(\u001b[0m\u001b[0;34m)\u001b[0m\u001b[0;34m\u001b[0m\u001b[0;34m\u001b[0m\u001b[0m\n\u001b[1;32m      2\u001b[0m \u001b[0;32mfor\u001b[0m \u001b[0mshare\u001b[0m \u001b[0;32min\u001b[0m \u001b[0mwork_share\u001b[0m\u001b[0;34m:\u001b[0m\u001b[0;34m\u001b[0m\u001b[0;34m\u001b[0m\u001b[0m\n\u001b[0;32m----> 3\u001b[0;31m     \u001b[0mmodel_5k\u001b[0m\u001b[0;34m(\u001b[0m\u001b[0mdf\u001b[0m\u001b[0;34m,\u001b[0m \u001b[0mshare_dict_start_end\u001b[0m\u001b[0;34m[\u001b[0m\u001b[0mshare\u001b[0m\u001b[0;34m]\u001b[0m\u001b[0;34m[\u001b[0m\u001b[0;36m0\u001b[0m\u001b[0;34m]\u001b[0m\u001b[0;34m,\u001b[0m \u001b[0mshare_dict_start_end\u001b[0m\u001b[0;34m[\u001b[0m\u001b[0mshare\u001b[0m\u001b[0;34m]\u001b[0m\u001b[0;34m[\u001b[0m\u001b[0;36m1\u001b[0m\u001b[0;34m]\u001b[0m\u001b[0;34m)\u001b[0m\u001b[0;34m\u001b[0m\u001b[0;34m\u001b[0m\u001b[0m\n\u001b[0m\u001b[1;32m      4\u001b[0m \u001b[0mduration\u001b[0m \u001b[0;34m=\u001b[0m \u001b[0mtimer\u001b[0m\u001b[0;34m(\u001b[0m\u001b[0;34m)\u001b[0m \u001b[0;34m-\u001b[0m \u001b[0mstart\u001b[0m\u001b[0;34m\u001b[0m\u001b[0;34m\u001b[0m\u001b[0m\n\u001b[1;32m      5\u001b[0m \u001b[0mprint\u001b[0m\u001b[0;34m(\u001b[0m\u001b[0mduration\u001b[0m\u001b[0;34m)\u001b[0m\u001b[0;34m\u001b[0m\u001b[0;34m\u001b[0m\u001b[0m\n",
      "\u001b[0;32m<ipython-input-19-043f6b744352>\u001b[0m in \u001b[0;36mmodel_5k\u001b[0;34m(df, list_share_start, list_share_end)\u001b[0m\n\u001b[1;32m      1\u001b[0m \u001b[0;32mdef\u001b[0m \u001b[0mmodel_5k\u001b[0m\u001b[0;34m(\u001b[0m\u001b[0mdf\u001b[0m\u001b[0;34m,\u001b[0m \u001b[0mlist_share_start\u001b[0m\u001b[0;34m,\u001b[0m \u001b[0mlist_share_end\u001b[0m\u001b[0;34m)\u001b[0m\u001b[0;34m:\u001b[0m\u001b[0;34m\u001b[0m\u001b[0;34m\u001b[0m\u001b[0m\n\u001b[1;32m      2\u001b[0m     \u001b[0mw\u001b[0m \u001b[0;34m=\u001b[0m \u001b[0mlist_share_start\u001b[0m\u001b[0;34m\u001b[0m\u001b[0;34m\u001b[0m\u001b[0m\n\u001b[0;32m----> 3\u001b[0;31m     \u001b[0mp0\u001b[0m \u001b[0;34m=\u001b[0m \u001b[0mdf\u001b[0m\u001b[0;34m.\u001b[0m\u001b[0mloc\u001b[0m\u001b[0;34m[\u001b[0m\u001b[0mw\u001b[0m\u001b[0;34m,\u001b[0m \u001b[0mcolumn_price\u001b[0m\u001b[0;34m]\u001b[0m\u001b[0;34m\u001b[0m\u001b[0;34m\u001b[0m\u001b[0m\n\u001b[0m\u001b[1;32m      4\u001b[0m \u001b[0;34m\u001b[0m\u001b[0m\n\u001b[1;32m      5\u001b[0m \u001b[0;31m# визначаємо яку кількість акцій потрібно купувати на відповідному етапі докуповування\u001b[0m\u001b[0;34m\u001b[0m\u001b[0;34m\u001b[0m\u001b[0;34m\u001b[0m\u001b[0m\n",
      "\u001b[0;31mNameError\u001b[0m: name 'column_price' is not defined"
     ]
    }
   ],
   "source": [
    "start = timer()\n",
    "for share in work_share:\n",
    "    model_5k(df, share_dict_start_end[share][0], share_dict_start_end[share][1])\n",
    "duration = timer() - start\n",
    "print(duration)"
   ]
  },
  {
   "cell_type": "code",
   "execution_count": null,
   "metadata": {},
   "outputs": [],
   "source": [
    "df.head()"
   ]
  },
  {
   "cell_type": "code",
   "execution_count": null,
   "metadata": {},
   "outputs": [],
   "source": [
    "df.to_csv('Result_Coins_2020_02_16_Art.csv', sep = ';', index=False)"
   ]
  },
  {
   "cell_type": "code",
   "execution_count": null,
   "metadata": {},
   "outputs": [],
   "source": []
  }
 ],
 "metadata": {
  "kernelspec": {
   "display_name": "Python 3",
   "language": "python",
   "name": "python3"
  },
  "language_info": {
   "codemirror_mode": {
    "name": "ipython",
    "version": 3
   },
   "file_extension": ".py",
   "mimetype": "text/x-python",
   "name": "python",
   "nbconvert_exporter": "python",
   "pygments_lexer": "ipython3",
   "version": "3.7.3"
  }
 },
 "nbformat": 4,
 "nbformat_minor": 2
}
